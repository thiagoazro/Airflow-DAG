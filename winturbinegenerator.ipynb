{
 "cells": [
  {
   "cell_type": "code",
   "execution_count": 4,
   "id": "e47eed12-b649-4a54-814a-b230d65df247",
   "metadata": {},
   "outputs": [
    {
     "ename": "KeyboardInterrupt",
     "evalue": "",
     "output_type": "error",
     "traceback": [
      "\u001b[0;31m---------------------------------------------------------------------------\u001b[0m",
      "\u001b[0;31mKeyboardInterrupt\u001b[0m                         Traceback (most recent call last)",
      "Cell \u001b[0;32mIn[4], line 19\u001b[0m\n\u001b[1;32m     16\u001b[0m \u001b[38;5;28;01mwith\u001b[39;00m \u001b[38;5;28mopen\u001b[39m(\u001b[38;5;124m'\u001b[39m\u001b[38;5;124m/home/thiago/airflow/airflow-docker/data/data.json\u001b[39m\u001b[38;5;124m'\u001b[39m, \u001b[38;5;124m'\u001b[39m\u001b[38;5;124mw\u001b[39m\u001b[38;5;124m'\u001b[39m) \u001b[38;5;28;01mas\u001b[39;00m fp:\n\u001b[1;32m     17\u001b[0m     json\u001b[38;5;241m.\u001b[39mdump(registro, fp)\n\u001b[0;32m---> 19\u001b[0m \u001b[43mtime\u001b[49m\u001b[38;5;241;43m.\u001b[39;49m\u001b[43msleep\u001b[49m\u001b[43m(\u001b[49m\u001b[38;5;241;43m5000\u001b[39;49m\u001b[43m)\u001b[49m\n",
      "\u001b[0;31mKeyboardInterrupt\u001b[0m: "
     ]
    }
   ],
   "source": [
    "import json\n",
    "from random import uniform\n",
    "import time\n",
    "from datetime import datetime\n",
    "id = 0\n",
    "while True:\n",
    "    id += 1\n",
    "    dados_pf = uniform(0.7,1)\n",
    "\n",
    "    dados_hp = uniform(70,80)\n",
    "\n",
    "    dados_tp = uniform(20,25)\n",
    "    registro = {'idtemp' : str(id), 'powerfactor' : str(dados_pf),'hydraulicpressure' : str(dados_hp) ,\n",
    "                'temperature' : str(dados_tp) ,'timestamp' : str(datetime.now()) }\n",
    "    \n",
    "    with open('/home/thiago/airflow/airflow-docker/data/data.json', 'w') as fp:\n",
    "        json.dump(registro, fp)\n",
    "  \n",
    "    time.sleep(5000)"
   ]
  },
  {
   "cell_type": "code",
   "execution_count": null,
   "id": "40f9ef45-986f-4830-b0c9-ad00cebdafc1",
   "metadata": {},
   "outputs": [],
   "source": []
  },
  {
   "cell_type": "code",
   "execution_count": null,
   "id": "6d97a305-2730-4bc4-8aaa-6f9ebaf6d0a7",
   "metadata": {},
   "outputs": [],
   "source": []
  }
 ],
 "metadata": {
  "kernelspec": {
   "display_name": "Python 3",
   "language": "python",
   "name": "python3"
  },
  "language_info": {
   "codemirror_mode": {
    "name": "ipython",
    "version": 3
   },
   "file_extension": ".py",
   "mimetype": "text/x-python",
   "name": "python",
   "nbconvert_exporter": "python",
   "pygments_lexer": "ipython3",
   "version": "3.12.6"
  }
 },
 "nbformat": 4,
 "nbformat_minor": 5
}
